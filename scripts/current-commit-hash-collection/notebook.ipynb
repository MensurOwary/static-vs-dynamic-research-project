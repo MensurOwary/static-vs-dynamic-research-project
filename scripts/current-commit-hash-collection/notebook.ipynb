{
 "metadata": {
  "language_info": {
   "codemirror_mode": {
    "name": "ipython",
    "version": 3
   },
   "file_extension": ".py",
   "mimetype": "text/x-python",
   "name": "python",
   "nbconvert_exporter": "python",
   "pygments_lexer": "ipython3",
   "version": "3.7.4-final"
  },
  "orig_nbformat": 2,
  "kernelspec": {
   "name": "python374jvsc74a57bd016dc6a55086cffbf87713e4d1114daa2c45c8a57717eaf41e2fcba3c97a54bb5",
   "display_name": "Python 3.7.4 64-bit"
  },
  "metadata": {
   "interpreter": {
    "hash": "16dc6a55086cffbf87713e4d1114daa2c45c8a57717eaf41e2fcba3c97a54bb5"
   }
  }
 },
 "nbformat": 4,
 "nbformat_minor": 2,
 "cells": [
  {
   "cell_type": "code",
   "execution_count": 5,
   "metadata": {},
   "outputs": [],
   "source": [
    "import pandas as pd"
   ]
  },
  {
   "cell_type": "code",
   "execution_count": 6,
   "metadata": {},
   "outputs": [],
   "source": [
    "all_projects = {}\n",
    "\n",
    "with open(\"out.txt\") as file:\n",
    "    for line in file:\n",
    "        if len(line.strip()) > 0:\n",
    "            lang, project, commit_hash = line.strip().split(\"/\")\n",
    "            all_projects[project] = commit_hash"
   ]
  },
  {
   "cell_type": "code",
   "execution_count": 7,
   "metadata": {},
   "outputs": [],
   "source": [
    "def construct_dataframe(lang: str):\n",
    "    # read from csv dump\n",
    "    df = pd.read_csv(\"%s.csv\" % lang)\n",
    "    # only keep these columns\n",
    "    df = df[[\"Project Name\", \"Github URL\", \"Github Stars\",\"Language %\"]]\n",
    "    # insert the language as the first column\n",
    "    df.insert(0, \"Language\", lang)\n",
    "\n",
    "    # map the hashes\n",
    "    project_names = df[\"Project Name\"].tolist()\n",
    "    project_hashes = []\n",
    "    for pn in project_names:\n",
    "        project_hashes.append(all_projects[pn])\n",
    "\n",
    "    lch = pd.DataFrame(project_hashes, columns=[\"Last Commit Hash\"])\n",
    "    # add the new column to df\n",
    "    return pd.concat([df, lch], axis=1)\n",
    "\n",
    "def construct_dataframe_for_all_langs():\n",
    "    langs = (\"go\", \"js\", \"kotlin\", \"python\", \"ruby\", \"scala\")\n",
    "    dfs = []\n",
    "    for lang in langs:\n",
    "        dfs.append(construct_dataframe(lang))\n",
    "    return pd.concat(dfs).reset_index(drop=True)\n"
   ]
  },
  {
   "cell_type": "code",
   "execution_count": 8,
   "metadata": {},
   "outputs": [],
   "source": [
    "construct_dataframe_for_all_langs().to_csv(\"RQ1_all_project_details.csv\")"
   ]
  },
  {
   "cell_type": "code",
   "execution_count": null,
   "metadata": {},
   "outputs": [],
   "source": []
  }
 ]
}